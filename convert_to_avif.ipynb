{
  "cells": [
    {
      "cell_type": "markdown",
      "metadata": {
        "id": "view-in-github",
        "colab_type": "text"
      },
      "source": [
        "<a href=\"https://colab.research.google.com/github/Farida-98-cse/django-postgres-boilerplate/blob/main/convert_to_avif.ipynb\" target=\"_parent\"><img src=\"https://colab.research.google.com/assets/colab-badge.svg\" alt=\"Open In Colab\"/></a>"
      ]
    },
    {
      "cell_type": "code",
      "execution_count": null,
      "metadata": {
        "colab": {
          "base_uri": "https://localhost:8080/"
        },
        "id": "7u7lEy_F48PZ",
        "outputId": "62017124-c9c5-4172-f61e-d08e14245a08"
      },
      "outputs": [
        {
          "output_type": "stream",
          "name": "stdout",
          "text": [
            "Requirement already satisfied: Pillow in /usr/local/lib/python3.10/dist-packages (9.4.0)\n"
          ]
        }
      ],
      "source": [
        "!pip install Pillow"
      ]
    },
    {
      "cell_type": "code",
      "execution_count": null,
      "metadata": {
        "colab": {
          "base_uri": "https://localhost:8080/"
        },
        "id": "C8XTSkTz9KPH",
        "outputId": "4afc5ed2-dea0-4225-8d40-136d3312e4dd"
      },
      "outputs": [
        {
          "output_type": "stream",
          "name": "stdout",
          "text": [
            "Requirement already satisfied: pillow-avif-plugin in /usr/local/lib/python3.10/dist-packages (1.3.1)\n"
          ]
        }
      ],
      "source": [
        "!pip install pillow-avif-plugin"
      ]
    },
    {
      "cell_type": "code",
      "execution_count": null,
      "metadata": {
        "colab": {
          "base_uri": "https://localhost:8080/"
        },
        "id": "6sfMKapy7ua6",
        "outputId": "cda528fa-7fd0-4fe9-d6fa-b6734b5929e4"
      },
      "outputs": [
        {
          "output_type": "stream",
          "name": "stdout",
          "text": [
            "mkdir: cannot create directory ‘input_images’: File exists\n"
          ]
        }
      ],
      "source": [
        "!mkdir input_images"
      ]
    },
    {
      "cell_type": "code",
      "execution_count": null,
      "metadata": {
        "colab": {
          "base_uri": "https://localhost:8080/"
        },
        "id": "92W8MmSj61NM",
        "outputId": "ef7b08f0-1933-4d1a-dcca-d0077a7856a1"
      },
      "outputs": [
        {
          "output_type": "stream",
          "name": "stdout",
          "text": [
            "Image input_images/step1.png has transparency. Saving as is.\n"
          ]
        }
      ],
      "source": [
        "from PIL import Image\n",
        "import os\n",
        "import pillow_avif\n",
        "\n",
        "# Function to check if the image has transparency\n",
        "def has_transparency(img):\n",
        "    if img.mode == \"P\":\n",
        "        transparent = img.info.get(\"transparency\", -1)\n",
        "        if transparent != -1:\n",
        "            return True\n",
        "    elif img.mode == \"RGBA\":\n",
        "        if img.getchannel(\"A\").getextrema()[1] < 255:\n",
        "            return True\n",
        "    return False\n",
        "\n",
        "# Function to convert an image to AVIF format\n",
        "def convert_to_avif(input_path, output_path):\n",
        "    try:\n",
        "        image = Image.open(input_path)\n",
        "\n",
        "        # Check if the image has transparency\n",
        "        if has_transparency(image):\n",
        "            print(f\"Image {input_path} has transparency. Saving as is.\")\n",
        "            output_path = os.path.join(output_directory, os.path.basename(input_path))\n",
        "            image.save(output_path)\n",
        "        else:\n",
        "            output_path = os.path.join(output_directory, os.path.splitext(os.path.basename(input_path))[0] + '.avif')\n",
        "            image.save(output_path, format='AVIF', method='thor', quality=50)  # Adjust quality as needed\n",
        "            print(f\"Converted {input_path} to AVIF format: {output_path}\")\n",
        "    except Exception as e:\n",
        "        print(f\"Error processing {input_path}: {e}\")\n",
        "\n",
        "# Specify the input directory containing the image files\n",
        "input_directory = 'input_images/'\n",
        "\n",
        "# Create an output directory if it doesn't exist\n",
        "output_directory = 'output_avif/'\n",
        "os.makedirs(output_directory, exist_ok=True)\n",
        "\n",
        "# Get a list of all files in the input directory\n",
        "input_files = os.listdir(input_directory)\n",
        "\n",
        "# Loop through each file and convert it to AVIF\n",
        "for input_file in input_files:\n",
        "    if input_file.lower().endswith(('.png', '.jpg', '.jpeg', '.svg')):\n",
        "        input_path = os.path.join(input_directory, input_file)\n",
        "        convert_to_avif(input_path, output_directory)\n"
      ]
    },
    {
      "cell_type": "code",
      "execution_count": null,
      "metadata": {
        "id": "uxv-yhVmO3Cq"
      },
      "outputs": [],
      "source": []
    }
  ],
  "metadata": {
    "colab": {
      "provenance": [],
      "include_colab_link": true
    },
    "kernelspec": {
      "display_name": "Python 3",
      "name": "python3"
    },
    "language_info": {
      "name": "python"
    }
  },
  "nbformat": 4,
  "nbformat_minor": 0
}